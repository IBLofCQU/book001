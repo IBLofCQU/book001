{
 "cells": [
  {
   "cell_type": "markdown",
   "source": [
    "1.5.1 Python 编程基础\n",
    "====================================\n",
    "\n",
    "Python是一门简单、易懂的编程语言，其语法与英语语法较为类似，能用类似于英语的语句方式进行程序编写，\n",
    "对非计算机专业或首次接触编程的人来讲，是一种较合适的入门编程语言。同时，Python也是目前全世界范围内研究机构及学校应用得最多的编程语言之一，\n",
    "也是机器学习领域中最流行的语言，如各种深度学习框架、库均提供了Python编程接口。因此，无论是为了进行深度学习研究，\n",
    "或是数据科学等其他方面的研究工作，Python都是当下最合适的编程语言。Python是一门解释执行语言，即通过解释器，\n",
    "以翻译一行执行一行的方式运行程序，可以理解为逐行解释并执行代码，遇到有错误的行或执行完毕后程序停止。\n",
    "\n",
    "截止至本书编写，Python主要有2.x和3.x两大版本，其中3.x是当前主流版本，本章中的开发环境主要基于3.8版本，\n",
    "若未特别说明则也适用于3.8及新的版本。以下内容将以VSCode集成开发环境（以下简称IDE）为例，\n",
    "介绍该IDE的使用方法及Python编程基础。\n",
    "\n",
    "## 1. IDE 基础\n",
    "\n",
    "本节以VSCode为例，使读者提前熟悉IDE的使用方法，其主界面如图1-18所示：其中红字标识的①区显示工作区中的所有源码文件，\n",
    "②区是当前源码文件名，③区是源代码输入编辑区，④区是运行程序按钮，⑤区是程序输出显示区。\n",
    "\n",
    "![图 1-18 VSCode 主界面](../../_static/1/1.5/1-18.png)\n",
    "\n",
    "在进行下述编程练习时，首先在编程主界面中的①区点击鼠标右键新建文件learn.py（文件扩展名是.py，\n",
    "名称为英文字母即可），在③区输入源代码并点击④区按钮后，即能在⑤区查看是否按预期输出。\n",
    "在学习任何编程语言时，第一个程序往往是学习如何显示出“Hello world!\n",
    "”，使用Python完成该程序的写法如下所示。\n"
   ],
   "metadata": {
    "collapsed": false
   }
  },
  {
   "cell_type": "code",
   "execution_count": 1,
   "outputs": [
    {
     "name": "stdout",
     "output_type": "stream",
     "text": [
      "hello word!\n"
     ]
    }
   ],
   "source": [
    "print(\"hello word!\")\n"
   ],
   "metadata": {
    "collapsed": false
   }
  },
  {
   "cell_type": "markdown",
   "source": [
    "该行代码中“print”是一个函数（后续代码中将大量用到此函数，用于显示数据或其他内容）； 括号中的“Hello world!”是向该函数输入的参数；符号“#”后的文字为注释，用于描述该行代码的功能或作其他说明。 整行代码的意思是：调用print函数，其输入参数是“Hello world!”，点击运行按钮即可在输出区显示结果。\n",
    "\n",
    "## 2. 数据类型\n",
    "\n",
    "Python中主要有整数（integer，简称int）、浮点数（float）、字符串（string，简称str）等数据类型，\n",
    "类（class）表示某数据的类别，使用type()\n",
    "函数可查看变量的数据类型。应特别注意，字符串必须用英文半角单引号' '或双引号\" \"\n",
    "，不能使用中文全角单引号‘’或双引号“”。\n"
   ],
   "metadata": {
    "collapsed": false
   }
  },
  {
   "cell_type": "code",
   "execution_count": 2,
   "outputs": [
    {
     "name": "stdout",
     "output_type": "stream",
     "text": [
      "<class 'int'>\n",
      "<class 'str'>\n"
     ]
    }
   ],
   "source": [
    "print(type(10))\n",
    "print(type(\"string\"))\n"
   ],
   "metadata": {
    "collapsed": false
   }
  },
  {
   "cell_type": "markdown",
   "source": [
    "## 3. 算数运算\n",
    "\n",
    "使用Python语言所执行的加减乘除等运算与数学中的算术表示类似，+表示加法，-表示减法，*\n",
    "表示乘法，/表示除法（注：除数不能是0）。\n"
   ],
   "metadata": {
    "collapsed": false
   }
  },
  {
   "cell_type": "code",
   "execution_count": 3,
   "outputs": [
    {
     "name": "stdout",
     "output_type": "stream",
     "text": [
      "2\n",
      "1.6666666666666667\n"
     ]
    }
   ],
   "source": [
    "print(1 * 2)\n",
    "print(5 / 3)\n"
   ],
   "metadata": {
    "collapsed": false
   }
  },
  {
   "cell_type": "markdown",
   "source": [
    "## 4. 常量与变量\n",
    "\n",
    "如上示例使用的某个具体数字或某个字符串，称为常量，如：1、2.3、\"string\"\n",
    "等。与常量对应的是变量，变量带有名称，可存放其他值，如下所示。\n"
   ],
   "metadata": {
    "collapsed": false
   }
  },
  {
   "cell_type": "code",
   "execution_count": 4,
   "outputs": [
    {
     "name": "stdout",
     "output_type": "stream",
     "text": [
      "222\n",
      "come\n"
     ]
    }
   ],
   "source": [
    "varName1 = 222\n",
    "varValue2 = \"come\"\n",
    "print(varName1)\n",
    "print(varValue2)\n"
   ],
   "metadata": {
    "collapsed": false
   }
  },
  {
   "cell_type": "markdown",
   "source": [
    "运行以上代码可发现，变量就像一个抽屉，用于存放各种数据或值，在程序运行中可以向变量赋不同的值，也可以存放变量运算后的结果。"
   ],
   "metadata": {
    "collapsed": false
   }
  },
  {
   "cell_type": "code",
   "execution_count": 5,
   "outputs": [
    {
     "name": "stdout",
     "output_type": "stream",
     "text": [
      "555\n",
      "come on!NoNoNo.\n"
     ]
    }
   ],
   "source": [
    "varName1 = 222\n",
    "varValue2 = 333\n",
    "varValue3 = varName1 + varValue2\n",
    "print(varValue3)\n",
    "varValue3 = \"come on!\"\n",
    "varValue4 = \"NoNoNo.\"\n",
    "varValue5 = varValue3 + varValue4\n",
    "print(varValue5)\n"
   ],
   "metadata": {
    "collapsed": false
   }
  },
  {
   "cell_type": "markdown",
   "source": [
    "## 5. bool 型\n",
    "\n",
    "bool型作为表示是/否的类型，其取值只能是True或False中的任意一个，主要用于bool运算（and、or、not）中判断某个条件的状态。\n"
   ],
   "metadata": {
    "collapsed": false
   }
  },
  {
   "cell_type": "code",
   "execution_count": 6,
   "outputs": [
    {
     "name": "stdout",
     "output_type": "stream",
     "text": [
      "False\n"
     ]
    }
   ],
   "source": [
    "isNum = True\n",
    "isString = False\n",
    "print(isNum and isString)\n"
   ],
   "metadata": {
    "collapsed": false
   }
  },
  {
   "cell_type": "markdown",
   "source": [
    "## 6. 列表\n",
    "\n",
    "列表可以用来表示一串数据，若要访问列表中的某个数据，可以通过带下标的索引访问，其中列表中第一个元素的下标是0；也可以访问列表中的连续几个数据（称为切片）。\n"
   ],
   "metadata": {
    "collapsed": false
   }
  },
  {
   "cell_type": "code",
   "execution_count": 7,
   "outputs": [
    {
     "name": "stdout",
     "output_type": "stream",
     "text": [
      "[1, 2, 3, 4, 5]\n",
      "1\n",
      "[2, 3, 4]\n",
      "[1, 2]\n"
     ]
    }
   ],
   "source": [
    "arr1 = [1, 2, 3, 4, 5]\n",
    "print(arr1)\n",
    "print(arr1[0])\n",
    "print(arr1[1:4])\n",
    "print(arr1[:-3])\n"
   ],
   "metadata": {
    "collapsed": false
   }
  },
  {
   "cell_type": "markdown",
   "source": [
    "## 7. 字典\n",
    "\n",
    "字典是以键名:键值成对的方式存储数据，如：\"age\":23, \"name\":Leeming, \"wechat\":\n",
    "mahuaten等。v\n"
   ],
   "metadata": {
    "collapsed": false
   }
  },
  {
   "cell_type": "code",
   "execution_count": 8,
   "outputs": [
    {
     "name": "stdout",
     "output_type": "stream",
     "text": [
      "23\n"
     ]
    }
   ],
   "source": [
    "dict1 = {\"age\": 23, \"name\": \"Leeming\", \"wechat\": \"mahuaten\"}\n",
    "print(dict1[\"age\"])\n",
    "dict1[\"age\"] = 25\n",
    "dict1[\"desc\"] = \"studentInfo\"\n"
   ],
   "metadata": {
    "collapsed": false
   }
  },
  {
   "cell_type": "markdown",
   "source": [
    "## 8. if条件判断语句\n",
    "\n",
    "if条件判断语句是指当if条件成立时才执行代码，if … else …语句是指根据不同的条件执行不同的代码。\n"
   ],
   "metadata": {
    "collapsed": false
   }
  },
  {
   "cell_type": "code",
   "execution_count": 9,
   "outputs": [
    {
     "name": "stdout",
     "output_type": "stream",
     "text": [
      "It’s a number!\n",
      "Bigger!\n"
     ]
    }
   ],
   "source": [
    "isNum = True\n",
    "if isNum:\n",
    "    print(\"It’s a number!\")\n",
    "isBigger = 3 > 2\n",
    "if isBigger:\n",
    "    print(\"Bigger!\")\n",
    "else:\n",
    "    print(\"Smaller!\")\n"
   ],
   "metadata": {
    "collapsed": false
   }
  },
  {
   "cell_type": "markdown",
   "source": [
    "## 9. for 循环语句\n",
    "\n",
    "在循环执行某些代码时可使用for循环语句，如循环访问列表、数组等。\n"
   ],
   "metadata": {
    "collapsed": false
   }
  },
  {
   "cell_type": "code",
   "execution_count": 10,
   "outputs": [
    {
     "name": "stdout",
     "output_type": "stream",
     "text": [
      "1\n",
      "2\n",
      "3\n",
      "4\n",
      "5\n"
     ]
    }
   ],
   "source": [
    "# 其中每次循环取得的元素值将存到变量i中，[...]表示一个列表\n",
    "for i in [1, 2, 3, 4, 5]:\n",
    "    print(i)\n"
   ],
   "metadata": {
    "collapsed": false
   }
  },
  {
   "cell_type": "markdown",
   "source": [
    "## 10. 函数\n",
    "\n",
    "在Python中，可以将一段有规律的、可重复使用的代码命名、定义为函数，便于调用执行，达到一次编写、多次调用的目的。同时，函数还可以定义参数，调用时将参数传递给函数中的代码，函数执行完成后可以返回值，以供调用方处理。\n"
   ],
   "metadata": {
    "collapsed": false
   }
  },
  {
   "cell_type": "code",
   "execution_count": 11,
   "outputs": [
    {
     "name": "stdout",
     "output_type": "stream",
     "text": [
      "***************\n",
      "This is first text line\n",
      "***************\n",
      "3 + 5 = 8\n",
      "add(3,5) return: 8\n"
     ]
    }
   ],
   "source": [
    "def showText():\n",
    "    print(\"***************\")\n",
    "    print(\"This is first text line\")\n",
    "    print(\"***************\")\n",
    "\n",
    "\n",
    "showText()\n",
    "\n",
    "\n",
    "def add(a, b):\n",
    "    sum = a + b\n",
    "    print(a, \"+\", b, \"=\", sum)\n",
    "    return sum\n",
    "\n",
    "\n",
    "rtnValue = add(3, 5)\n",
    "print(\"add(3,5) return:\", rtnValue)\n"
   ],
   "metadata": {
    "collapsed": false
   }
  },
  {
   "cell_type": "markdown",
   "source": [
    "## 11. 面向对象编程\n",
    "\n",
    "面向对象编程是一种将对象作为程序基本单位的编程思想，一个对象主要由数据（又称为属性）及函数（有些称为方法）组成，其中对象在定义时叫类，在使用时需要创建该类的一个实例化对象，以猫举例如下。\n"
   ],
   "metadata": {
    "collapsed": false
   }
  },
  {
   "cell_type": "code",
   "execution_count": null,
   "outputs": [],
   "source": [
    "class Cat(object):\n",
    "    def __init__(self, age1, color1, nickName1):\n",
    "        self.age = age1\n",
    "        self.color = color1\n",
    "        self.nickName = nickName1\n",
    "\n",
    "    def showCatInfo(self):\n",
    "        print(\"This cat is \", self.nickName)\n",
    "\n",
    "    def sound(self):\n",
    "        print(\"Meow…\", \"--by cat:\", self.nickName)\n",
    "\n",
    "\n",
    "cat1 = Cat(3, \"White\", \"DuduMiao\")\n"
   ],
   "metadata": {
    "collapsed": false
   }
  },
  {
   "cell_type": "markdown",
   "source": [
    "上述代码定义了一个**Cat类，用于抽象表示猫这类动物**，当要表示具体某只猫时，则需用类Cat实例化一个对象出来，设置对象的属性后，该**对象即表示某只具体的猫**，以上即是类和对象的区别。\n"
   ],
   "metadata": {
    "collapsed": false
   }
  },
  {
   "cell_type": "code",
   "execution_count": null,
   "outputs": [],
   "source": [],
   "metadata": {
    "collapsed": false
   }
  }
 ],
 "metadata": {
  "kernelspec": {
   "display_name": "Python 3",
   "language": "python",
   "name": "python3"
  },
  "language_info": {
   "codemirror_mode": {
    "name": "ipython",
    "version": 2
   },
   "file_extension": ".py",
   "mimetype": "text/x-python",
   "name": "python",
   "nbconvert_exporter": "python",
   "pygments_lexer": "ipython2",
   "version": "2.7.6"
  }
 },
 "nbformat": 4,
 "nbformat_minor": 0
}
