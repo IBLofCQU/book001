{
 "cells": [
  {
   "cell_type": "markdown",
   "source": [
    "# Numpy 数组及运算\n",
    "\n",
    "\n",
    "1. Numpy 导入\n",
    "\n",
    "&ensp;&ensp;&ensp;&ensp;\n",
    "在Python中使用第三方包时，均需在代码起始行导入包，如下所示。\n"
   ],
   "metadata": {
    "collapsed": false
   }
  },
  {
   "cell_type": "code",
   "execution_count": 1,
   "outputs": [],
   "source": [
    "# as np表示导入后名称为np，后续可使用np代替全称numpy\n",
    "import numpy as np\n"
   ],
   "metadata": {
    "collapsed": false
   }
  },
  {
   "cell_type": "markdown",
   "source": [
    "&ensp;&ensp;&ensp;&ensp;\n",
    "其中NumPy中生成随机数的Random模块常用函数如表1-1所示：\n",
    "\n",
    ":::{table} 表1-1 Random模块常用函数\n",
    ":align: center\n",
    ":widths: grid\n",
    "\n",
    "| 函数                | 描述          |\n",
    "|-------------------|-------------|\n",
    "| np.random.random  | 生成0到1之间的随机数 |\n",
    "| np.random.uniform | 生成均匀分布的随机数  |\n",
    "| np.random.randn   | 生成标准正态的随机数  |\n",
    "| np.random.randint | 生成随机的整数     |\n",
    "| np.random.normal  | 生成正态分布      |\n",
    "| np.random.shuffle | 随机打乱顺序      |\n",
    "| np.random.seed    | 设置随机数种子     |\n",
    "| random_sample     | 生成随机的浮点数    |\n",
    "\n",
    ":::\n",
    "\n",
    "2. 数组\n",
    "\n",
    "&ensp;&ensp;&ensp;&ensp;\n",
    "调用NumPy中的array函数可生成NumPy数组。如传递一个Python列表作为参数，则返回的NumPy数组就包括Python列表中的所有元素，其中访问NumPy中的元素与访问Python列表中的元素一致，使用lst[n]\n",
    "方式访问（lst是数组名，n是从0开始的数组索引）。\n",
    "\n",
    "&ensp;&ensp;&ensp;&ensp;\n",
    "其中NumPy中数组创建相关常用函数如表1-2所示：\n",
    "\n",
    ":::{table} 表1-2 数组创建常用函数\n",
    ":align: center\n",
    ":widths: grid\n",
    "\n",
    "| 函数                    | \t描述                             |\n",
    "|-----------------------|---------------------------------|\n",
    "| np.zeros((3,4))\t      | 创建3×4的元素全为0的数组                  |\n",
    "| np.ones((3,4))\t       | 创建3×4的元素全为1的数组                  |\n",
    "| np.empty((2,3))\t      | 创建2×3的空数组，空数据中的值并不为0，而是未初始化的垃圾值 |\n",
    "| np.zeros_like(ndarr)\t | 以ndarr相同维度创建元素全为0数组             |\n",
    "| np.ones_like(ndarr)\t  | 以ndarr相同维度创建元素全为1数组             |\n",
    "| np.empty_like(ndarr)\t | 以ndarr相同维度创建空数组                 |\n",
    "| np.eye(5)\t            | 该函数用于创建一个5×5的矩阵，对角线为1，其余为0      |\n",
    "| np.full((3,5), 666)\t  | 创建3×5的元素全为666的数组，666为指定值        |\n",
    ":::"
   ],
   "metadata": {
    "collapsed": false
   }
  },
  {
   "cell_type": "code",
   "execution_count": 2,
   "outputs": [
    {
     "name": "stdout",
     "output_type": "stream",
     "text": [
      "[1, 2, 3, 5]\n",
      "[1 2 3 5]\n",
      "<class 'list'>\n",
      "<class 'numpy.ndarray'>\n"
     ]
    }
   ],
   "source": [
    "# 创建一个Python列表\n",
    "lst1 = [1, 2, 3, 5]\n",
    "# 调用NumPy函数array，传入列表，生成一个NumPy数组\n",
    "arr1 = np.array(lst1)\n",
    "# 查看Python列表内容\n",
    "print(lst1)\n",
    "# 查看NumPy数组内容，和上面代码显示的数据内容一样\n",
    "print(arr1)\n",
    "# 查看其类型\n",
    "print(type(lst1))\n",
    "# 与上行代码比，两者数据相同，但类型不同、存储方式不同\n",
    "print(type(arr1))\n"
   ],
   "metadata": {
    "collapsed": false
   }
  },
  {
   "cell_type": "markdown",
   "source": [
    "&ensp;&ensp;&ensp;&ensp;\n",
    "通过不同函数，可以创建不同种类的数组，如随机数数组：\n"
   ],
   "metadata": {
    "collapsed": false
   }
  },
  {
   "cell_type": "code",
   "execution_count": 3,
   "outputs": [
    {
     "name": "stdout",
     "output_type": "stream",
     "text": [
      "[0.29773903 0.82727708 0.76538624]\n",
      "[0.82727708 0.76538624 0.29773903]\n"
     ]
    }
   ],
   "source": [
    "# 生成3个随机数组成的数组\n",
    "arr3 = np.random.random(size=3)\n",
    "# 指定相同的随机数种子，会生成相同的一批随机数\n",
    "np.random.seed(166)\n",
    "arr4 = np.random.random(size=3)\n",
    "print(arr4)\n",
    "# 随机打乱数组中各元素的顺序\n",
    "np.random.shuffle(arr4)\n",
    "print(arr4)\n"
   ],
   "metadata": {
    "collapsed": false
   }
  },
  {
   "cell_type": "markdown",
   "source": [
    "&ensp;&ensp;&ensp;&ensp;\n",
    "特定值数组（如全0、全1的数组）：\n"
   ],
   "metadata": {
    "collapsed": false
   }
  },
  {
   "cell_type": "code",
   "execution_count": 4,
   "outputs": [
    {
     "name": "stdout",
     "output_type": "stream",
     "text": [
      "[0. 0. 0.]\n",
      "[1. 1. 1.]\n",
      "[666 666 666]\n"
     ]
    }
   ],
   "source": [
    "# 生成的数据全是0\n",
    "arr5 = np.zeros([3, ])\n",
    "print(arr5)\n",
    "# 生成的数据全是1\n",
    "arr6 = np.ones([3, ])\n",
    "print(arr6)\n",
    "# 生成的数据全是指定值666\n",
    "arr7 = np.full([3, ], 666)\n",
    "print(arr7)\n"
   ],
   "metadata": {
    "collapsed": false
   }
  },
  {
   "cell_type": "markdown",
   "source": [
    "&ensp;&ensp;&ensp;&ensp;\n",
    "按指定规则递增/递减的数组：\n"
   ],
   "metadata": {
    "collapsed": false
   }
  },
  {
   "cell_type": "code",
   "execution_count": 5,
   "outputs": [
    {
     "name": "stdout",
     "output_type": "stream",
     "text": [
      "[0 1 2 3 4 5 6 7 8 9]\n",
      "[0 1 2 3 4 5 6 7 8 9]\n",
      "[1.  1.5 2.  2.5 3.  3.5 4.  4.5]\n",
      "[9 8 7 6 5 4 3 2 1 0]\n"
     ]
    }
   ],
   "source": [
    "# 生成[0,10)的数组，默认步长为1\n",
    "print(np.arange(10))\n",
    "# 生成[0,10)的数组，默认步长为1\n",
    "print(np.arange(0, 10))\n",
    "# 生成[1,5)的数组，步长为0.5\n",
    "print(np.arange(1, 5, 0.5))\n",
    "# 倒序生成(-1,9]的数组，步长为1\n",
    "print(np.arange(9, -1, -1))\n"
   ],
   "metadata": {
    "collapsed": false
   }
  },
  {
   "cell_type": "markdown",
   "source": [
    "&ensp;&ensp;&ensp;&ensp;\n",
    "在指定取值范围内，按指定数量等分的数组：\n"
   ],
   "metadata": {
    "collapsed": false
   }
  },
  {
   "cell_type": "code",
   "execution_count": 6,
   "outputs": [
    {
     "name": "stdout",
     "output_type": "stream",
     "text": [
      "[ 1.  2.  3.  4.  5.  6.  7.  8.  9. 10.]\n"
     ]
    }
   ],
   "source": [
    "# 生成[1,10]范围内10个线性等分向量（数字）\n",
    "print(np.linspace(1, 10, 10))\n"
   ],
   "metadata": {
    "collapsed": false
   }
  },
  {
   "cell_type": "markdown",
   "source": [
    "&ensp;&ensp;&ensp;&ensp;\n",
    "同时，还可以将数组的数据保存到文件中，后续可从文件中恢复数组数据。\n"
   ],
   "metadata": {
    "collapsed": false
   }
  },
  {
   "cell_type": "code",
   "execution_count": 7,
   "outputs": [
    {
     "name": "stdout",
     "output_type": "stream",
     "text": [
      "[0.24175633 0.90959386 0.43980117 0.76418946 0.32679251 0.40891362\n",
      " 0.38175381 0.91604818 0.8212697  0.16786087]\n",
      "[0.24175633 0.90959386 0.43980117 0.76418946 0.32679251 0.40891362\n",
      " 0.38175381 0.91604818 0.8212697  0.16786087]\n"
     ]
    }
   ],
   "source": [
    "arr21 = np.random.random([10, ])\n",
    "print(arr21)\n",
    "fileName = '/.testData.txt'\n",
    "# 将数组中的数据保存到文件中\n",
    "np.savetxt(X=arr21, fname=fileName)\n",
    "# 从文件中恢复数组, arr22与arr21的数据应相同\n",
    "arr22 = np.loadtxt(fileName)\n",
    "print(arr22)\n"
   ],
   "metadata": {
    "collapsed": false
   }
  },
  {
   "cell_type": "markdown",
   "source": [
    "3. NumPy 的算术运算\n",
    "\n",
    "&ensp;&ensp;&ensp;&ensp;\n",
    "维度和元素个数相同的NumPy数组所进行的加减乘除算术运算是指：将每个数组中每个位置的元素进行相应运算后，再放回新数组相应位置的过程，如下所示。\n"
   ],
   "metadata": {
    "collapsed": false
   }
  },
  {
   "cell_type": "code",
   "execution_count": 8,
   "outputs": [
    {
     "name": "stdout",
     "output_type": "stream",
     "text": [
      "[ 6  8 10]\n",
      "[-4 -4 -4]\n",
      "[ 5 12 21]\n",
      "[0.2        0.33333333 0.42857143]\n"
     ]
    }
   ],
   "source": [
    "arr1 = np.array([1, 2, 3])\n",
    "arr2 = np.array([5, 6, 7])\n",
    "# 逐元素相加\n",
    "print(arr1 + arr2)\n",
    "# 逐元素相减\n",
    "print(arr1 - arr2)\n",
    "# 逐元素相乘\n",
    "print(arr1 * arr2)\n",
    "# 逐元素相除\n",
    "print(arr1 / arr2)\n"
   ],
   "metadata": {
    "collapsed": false
   }
  },
  {
   "cell_type": "markdown",
   "source": [
    "4. 数组变形\n",
    "\n",
    "&ensp;&ensp;&ensp;&ensp;\n",
    "上节生成的是一维数组（即只有一行数据），在深度学习中用得较多的则是多维数组（排成多行多列的成批数据），为方便读者理解，本书将有些多维数组的叫法与数学上的叫法相统一，即一维数组称为向量、二维数组称为矩阵、三维及三维以上数组称为张量，在NumPy中生成多维数组如下所示。\n"
   ],
   "metadata": {
    "collapsed": false
   }
  },
  {
   "cell_type": "code",
   "execution_count": 9,
   "outputs": [
    {
     "name": "stdout",
     "output_type": "stream",
     "text": [
      "arr3 的形状: (2, 3)\n",
      "[[1 2 3]\n",
      " [6 7 8]]\n"
     ]
    }
   ],
   "source": [
    "# 生成2行3列数组（又称矩阵）\n",
    "arr3 = np.array([[1, 2, 3], [6, 7, 8]])\n",
    "# 查看形状\n",
    "print(\"arr3 的形状:\", arr3.shape)\n",
    "# 显示其数据\n",
    "print(arr3)\n"
   ],
   "metadata": {
    "collapsed": false
   }
  },
  {
   "cell_type": "markdown",
   "source": [
    "&ensp;&ensp;&ensp;&ensp;\n",
    "多维数组之间也可以进行算术运算，其要求是参与运算的多维数组形状相同，以矩阵为例，要求矩阵的行数和列数均相同。\n"
   ],
   "metadata": {
    "collapsed": false
   }
  },
  {
   "cell_type": "code",
   "execution_count": 10,
   "outputs": [
    {
     "name": "stdout",
     "output_type": "stream",
     "text": [
      "arr3 + arr4=: [[ 4  4  4]\n",
      " [14 14 14]]\n",
      "arr3 * arr4=: [[ 3  4  3]\n",
      " [48 49 48]]\n",
      "arr3 * 10=: [[10 20 30]\n",
      " [60 70 80]]\n"
     ]
    }
   ],
   "source": [
    "# 生成2行3列数组（又称矩阵）\n",
    "arr3 = np.array([[1, 2, 3], [6, 7, 8]])\n",
    "# 生成2行3列数组（又称矩阵）\n",
    "arr4 = np.array([[3, 2, 1], [8, 7, 6]])\n",
    "# 查看+运算结果，可发现是逐个元素相加\n",
    "print(\"arr3 + arr4=:\", arr3 + arr4)\n",
    "# 查看*运算结果，可发现是逐个元素相乘\n",
    "print(\"arr3 * arr4=:\", arr3 * arr4)\n",
    "# 查看*向量后运算结果，可发现是逐个元素相乘\n",
    "print(\"arr3 * 10=:\", arr3 * 10)\n"
   ],
   "metadata": {
    "collapsed": false
   }
  },
  {
   "cell_type": "markdown",
   "source": [
    "&ensp;&ensp;&ensp;&ensp;\n",
    "在生成数组时可将数组中的元素按指定值填充：\n"
   ],
   "metadata": {
    "collapsed": false
   }
  },
  {
   "cell_type": "code",
   "execution_count": 11,
   "outputs": [
    {
     "name": "stdout",
     "output_type": "stream",
     "text": [
      "[[0. 0. 0.]\n",
      " [0. 0. 0.]\n",
      " [0. 0. 0.]]\n",
      "[[0. 0. 0.]\n",
      " [0. 0. 0.]\n",
      " [0. 0. 0.]]\n",
      "[[1. 0. 0.]\n",
      " [0. 1. 0.]\n",
      " [0. 0. 1.]]\n",
      "[[1 0 0]\n",
      " [0 2 0]\n",
      " [0 0 3]]\n"
     ]
    }
   ],
   "source": [
    "# 生成3x3矩阵，其数据值全为0\n",
    "arr21 = np.zeros([3, 3])\n",
    "print(arr21)\n",
    "# 与arr21形状一样的矩阵，其数据值全为0\n",
    "arr22 = np.zeros_like(arr21)\n",
    "print(arr22)\n",
    "# 对角线上元素为1，其他元素全为0的3阶单位矩阵\n",
    "arr23 = np.eye(3)\n",
    "print(arr23)\n",
    "# 对角线上元素为1、2、3，其他全为0的3阶对角矩阵\n",
    "arr25 = np.diag([1, 2, 3])\n",
    "print(arr25)\n"
   ],
   "metadata": {
    "collapsed": false
   }
  },
  {
   "cell_type": "markdown",
   "source": [
    "&ensp;&ensp;&ensp;&ensp;\n",
    "多维数组中元素的获取举例如下：\n"
   ],
   "metadata": {
    "collapsed": false
   }
  },
  {
   "cell_type": "code",
   "execution_count": 12,
   "outputs": [
    {
     "name": "stdout",
     "output_type": "stream",
     "text": [
      "[[ 1.  2.  3.  4.  5.]\n",
      " [ 6.  7.  8.  9. 10.]\n",
      " [11. 12. 13. 14. 15.]\n",
      " [16. 17. 18. 19. 20.]\n",
      " [21. 22. 23. 24. 25.]]\n",
      "[[ 1.  2.  3.]\n",
      " [ 6.  7.  8.]\n",
      " [11. 12. 13.]]\n",
      "[[ 6.  7.  8.  9. 10.]\n",
      " [11. 12. 13. 14. 15.]\n",
      " [16. 17. 18. 19. 20.]]\n",
      "[ 1.  2.  3.  4.  5.  6.  7.  8.  9. 10. 11. 12. 13. 14. 15. 16. 17. 18.\n",
      " 19. 20. 21. 22. 23. 24.]\n",
      "[[24. 24.  1.]\n",
      " [18. 10. 10.]\n",
      " [19. 13.  6.]\n",
      " [12.  2.  1.]]\n",
      "[[21. 16. 12.]\n",
      " [17.  8. 14.]\n",
      " [18. 15. 18.]\n",
      " [ 9. 12. 17.]]\n"
     ]
    }
   ],
   "source": [
    "arr26 = np.linspace(1, 25, 25).reshape([5, 5])\n",
    "\n",
    "# 将一维数组转换成5行5列矩阵\n",
    "print(arr26)\n",
    "# 在原矩阵中，取[1,4)行与[1,4)列\n",
    "print(arr26[0:3, 0:3])\n",
    "# 在原矩阵中，取[2,5)行与所有列\n",
    "print(arr26[1:4, :])\n",
    "arr27 = np.arange(1, 25, dtype=float)\n",
    "print(arr27)\n",
    "cse1 = np.random.choice(arr27, size=(4, 3))\n",
    "\n",
    "# 从数组中随机抽取数，并返回4行3列的矩阵\n",
    "print(cse1)\n",
    "cse2 = np.random.choice(arr27, size=(4, 3), p=arr27 / np.sum(arr27))\n",
    "\n",
    "# 同上，但指定概率抽数\n",
    "\n",
    "print(cse2)\n"
   ],
   "metadata": {
    "collapsed": false
   }
  },
  {
   "cell_type": "markdown",
   "source": [
    "5. Numpy 的点积运算\n",
    "\n",
    "&ensp;&ensp;&ensp;&ensp;\n",
    "点积运算在NumPy中用NumPy.dot(A,B)\n",
    "表示，又称内积，要求A的第2个维度与B的第1个维度相同才能进行点积运算。以矩阵为例，即A的第2个维度（列）必须与B的第1个维度（行）相同时才能进行点积运算，其使用方法如下。\n"
   ],
   "metadata": {
    "collapsed": false
   }
  },
  {
   "cell_type": "code",
   "execution_count": 13,
   "outputs": [
    {
     "name": "stdout",
     "output_type": "stream",
     "text": [
      "[[21 24 27]\n",
      " [47 54 61]]\n"
     ]
    }
   ],
   "source": [
    "arr28 = np.array([[1, 2], [3, 4]])\n",
    "arr29 = np.array([[5, 6, 7], [8, 9, 10]])\n",
    "arr30 = np.dot(arr28, arr29)\n",
    "\n",
    "# 点积运算，其运算过程如图1-19所示\n",
    "print(arr30)\n"
   ],
   "metadata": {
    "collapsed": false
   }
  },
  {
   "cell_type": "markdown",
   "source": [
    ":::{figure-md}\n",
    "<img src=\"../../_static/1/1.5/1-19.png\" alt=\"图 1-19 点积运算示意图\" >\n",
    "\n",
    "图 1-19 点积运算示意图\n",
    ":::\n",
    "\n"
   ],
   "metadata": {
    "collapsed": false
   }
  },
  {
   "cell_type": "markdown",
   "source": [
    "6. NumPy 的广播功能\n",
    "\n",
    "&ensp;&ensp;&ensp;&ensp;\n",
    "如前所述的数组算术运算中，要求参与运算的数组须具备相同的形状。实际在NumPy中，形状不同的数组之间也可以进行运算，其中形状较小的数组会被扩展成与形状较大数组相同的形状（如行数较少，则将原行的数值复制到新增行；如列数较少，则将原列的数值复制到新增列）后，再进行算术运算，这就是NumPy的广播功能，其扩展示意如图1-20所示，使用方法如下。\n"
   ],
   "metadata": {
    "collapsed": false
   }
  },
  {
   "cell_type": "code",
   "execution_count": 14,
   "outputs": [
    {
     "name": "stdout",
     "output_type": "stream",
     "text": [
      "[[1 2]\n",
      " [3 4]]\n",
      "[[10 40]\n",
      " [30 80]]\n"
     ]
    }
   ],
   "source": [
    "# 2行2列矩阵\n",
    "arr31 = np.array([[1, 2], [3, 4]])\n",
    "# 1行2列矩阵\n",
    "arr32 = np.array([10, 20])\n",
    "print(arr31)\n",
    "# arr32会扩展成2行2列，再与arr31相乘\n",
    "print(arr31 * arr32)\n"
   ],
   "metadata": {
    "collapsed": false
   }
  },
  {
   "cell_type": "markdown",
   "source": [
    "\n",
    ":::{figure-md}\n",
    "<img src=\"../../_static/1/1.5/1-20.png\" alt=\"图 1-20 数组扩展示意图\">\n",
    "\n",
    "图 1-20 数组扩展示意图\n",
    ":::"
   ],
   "metadata": {
    "collapsed": false
   }
  },
  {
   "cell_type": "code",
   "execution_count": null,
   "outputs": [],
   "source": [],
   "metadata": {
    "collapsed": false
   }
  }
 ],
 "metadata": {
  "kernelspec": {
   "display_name": "Python 3",
   "language": "python",
   "name": "python3"
  },
  "language_info": {
   "codemirror_mode": {
    "name": "ipython",
    "version": 2
   },
   "file_extension": ".py",
   "mimetype": "text/x-python",
   "name": "python",
   "nbconvert_exporter": "python",
   "pygments_lexer": "ipython2",
   "version": "2.7.6"
  }
 },
 "nbformat": 4,
 "nbformat_minor": 0
}
